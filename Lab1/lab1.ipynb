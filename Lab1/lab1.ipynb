{
  "cells": [
    {
      "cell_type": "code",
      "execution_count": 2,
      "metadata": {
        "id": "gAM7hYk7dySO"
      },
      "outputs": [],
      "source": [
        "import numpy as np\n",
        "import matplotlib.pyplot as plt"
      ]
    },
    {
      "cell_type": "markdown",
      "metadata": {
        "id": "3kmNYc_weOPA"
      },
      "source": [
        "### Zadanie 1\n",
        "Dane są dwa sygnały o okresie podstawowym N=4: s1 = {2, 1, 3, 0} i s2 = {0, 1, 3, 0}\n"
      ]
    },
    {
      "cell_type": "code",
      "execution_count": 5,
      "metadata": {
        "id": "MTiVnvj-eRfM"
      },
      "outputs": [],
      "source": [
        "period = 4\n",
        "s1 = [2, 1, 3, 0]\n",
        "s2 = [0, 1, 3, 0]"
      ]
    },
    {
      "cell_type": "markdown",
      "metadata": {
        "id": "5dMIfqFfeVS-"
      },
      "source": [
        "#### a) Dla każdego z sygnału:\n",
        "- wyznaczyć i wykreślić widmo amplitudowe i fazowe"
      ]
    },
    {
      "cell_type": "code",
      "execution_count": 6,
      "metadata": {
        "id": "7PEpghyBeZL_"
      },
      "outputs": [],
      "source": [
        "def calc_spectrum(signal):\n",
        "    return np.fft.fft(signal) / len(signal)\n",
        "\n",
        "def calc_amplitude_spectrum(signal):\n",
        "    return np.abs(calc_spectrum(signal))\n",
        "\n",
        "def calc_phase_spectrum(signal):\n",
        "    return np.angle(calc_spectrum(signal))"
      ]
    },
    {
      "cell_type": "code",
      "execution_count": 7,
      "metadata": {
        "colab": {
          "base_uri": "https://localhost:8080/",
          "height": 634
        },
        "id": "yupprxFNeZ9m",
        "outputId": "79ab6909-bbdb-4919-b533-c2be0bda779c"
      },
      "outputs": [
        {
          "data": {
            "image/png": "[encoded data removed]",
            "text/plain": [
              "<Figure size 432x288 with 1 Axes>"
            ]
          },
          "metadata": {
            "needs_background": "light"
          },
          "output_type": "display_data"
        },
        {
          "data": {
            "image/png": "[encoded data removed]",
            "text/plain": [
              "<Figure size 432x288 with 1 Axes>"
            ]
          },
          "metadata": {
            "needs_background": "light"
          },
          "output_type": "display_data"
        }
      ],
      "source": [
        "plt.stem(calc_amplitude_spectrum(s1))\n",
        "plt.title(\"Amplitude spectrum s1\")\n",
        "plt.show()\n",
        "\n",
        "plt.stem(calc_amplitude_spectrum(s2))\n",
        "plt.title(\"Amplitude spectrum s2\")\n",
        "plt.show()"
      ]
    },
    {
      "cell_type": "code",
      "execution_count": 8,
      "metadata": {
        "colab": {
          "base_uri": "https://localhost:8080/",
          "height": 634
        },
        "id": "l9O04-S-e94x",
        "outputId": "238a01ec-eec1-4598-eb1e-f1e642a68a2f"
      },
      "outputs": [
        {
          "data": {
            "image/png": "[encoded data removed]",
            "text/plain": [
              "<Figure size 432x288 with 1 Axes>"
            ]
          },
          "metadata": {
            "needs_background": "light"
          },
          "output_type": "display_data"
        },
        {
          "data": {
            "image/png": "[encoded data removed]",
            "text/plain": [
              "<Figure size 432x288 with 1 Axes>"
            ]
          },
          "metadata": {
            "needs_background": "light"
          },
          "output_type": "display_data"
        }
      ],
      "source": [
        "plt.stem(calc_phase_spectrum(s1))\n",
        "plt.title(\"Phase spectrum s1\")\n",
        "plt.show()\n",
        "\n",
        "plt.stem(calc_phase_spectrum(s2))\n",
        "plt.title(\"Phase spectrum s2\")\n",
        "plt.show()"
      ]
    },
    {
      "cell_type": "markdown",
      "metadata": {
        "id": "3VsS3WD7fCjK"
      },
      "source": [
        "- obliczyć moc sygnału"
      ]
    },
    {
      "cell_type": "code",
      "execution_count": 9,
      "metadata": {
        "id": "jPvqNLOFfDFl"
      },
      "outputs": [],
      "source": [
        "def calc_power(signal):\n",
        "    return sum([a**2 for a in signal]) / len(signal)"
      ]
    },
    {
      "cell_type": "code",
      "execution_count": 10,
      "metadata": {
        "colab": {
          "base_uri": "https://localhost:8080/"
        },
        "id": "CI3k4UQafEKD",
        "outputId": "9ee15283-4b5d-4451-9c22-660b9e5f2d15"
      },
      "outputs": [
        {
          "name": "stdout",
          "output_type": "stream",
          "text": [
            "Power_s1 =  3.5\n",
            "Power_s2 =  2.5\n"
          ]
        }
      ],
      "source": [
        "print(\"Power_s1 = \", calc_power(s1))\n",
        "print(\"Power_s2 = \", calc_power(s2))"
      ]
    },
    {
      "cell_type": "markdown",
      "metadata": {
        "id": "-2g6GEWUfFX6"
      },
      "source": [
        "- sprawdzić słuszność twierdzenia Parsevala"
      ]
    },
    {
      "cell_type": "code",
      "execution_count": 11,
      "metadata": {
        "id": "9E-oR8y7fG4x"
      },
      "outputs": [],
      "source": [
        "def calc_parseval(signal):\n",
        "    return sum([np.abs(a)**2 for a in calc_spectrum(signal)])\n",
        "\n",
        "def check_parseval_theorem(signal):\n",
        "    return calc_power(signal) == calc_parseval(signal)"
      ]
    },
    {
      "cell_type": "code",
      "execution_count": 12,
      "metadata": {
        "colab": {
          "base_uri": "https://localhost:8080/"
        },
        "id": "Vhexbjw1fIZM",
        "outputId": "8ae875e9-67e7-4fbd-9596-8e14c099bf8f"
      },
      "outputs": [
        {
          "name": "stdout",
          "output_type": "stream",
          "text": [
            "Parseval_power_s1 =  3.5\n",
            "Parseval_power_s2 =  2.5\n",
            "Twierdzenie Parsevala dla s1 jest prawdziwe\n",
            "Twierdzenie Parsevala dla s2 jest prawdziwe\n"
          ]
        }
      ],
      "source": [
        "print(\"Parseval_power_s1 = \", calc_parseval(s1))\n",
        "print(\"Parseval_power_s2 = \", calc_parseval(s2))\n",
        "print(f\"Twierdzenie Parsevala dla s1 {'jest' if check_parseval_theorem(s1) else 'nie jest'} prawdziwe\")\n",
        "print(f\"Twierdzenie Parsevala dla s2 {'jest' if check_parseval_theorem(s2) else 'nie jest'} prawdziwe\")"
      ]
    },
    {
      "cell_type": "markdown",
      "metadata": {
        "id": "3rHUNVnEfKca"
      },
      "source": [
        "#### b) Sprawdzić słuszność twierdzenia o dyskretnej transformacji Fouriera splotu kołowego sygnałów s1 i s2:\n",
        "- wyznaczyć ręcznie splot kołowy sygnałów s1 i s2\n",
        "- wyznaczyć splot za pomocą dyskretnej transformacji Fouriera"
      ]
    },
    {
      "cell_type": "code",
      "execution_count": 13,
      "metadata": {
        "id": "hYgz1ChZfLEo"
      },
      "outputs": [],
      "source": [
        "def calc_circular_convolution(signal1, signal2):\n",
        "    convolution = []\n",
        "    for i1, _ in enumerate(signal1):\n",
        "        convolution.append(sum([signal1[i2]*signal2[i1-i2] for i2, _ in enumerate(signal1)]))\n",
        "    return convolution\n",
        "\n",
        "def calc_circular_convolution_fft(signal1, signal2):\n",
        "    return np.fft.ifft(np.fft.fft(signal1) * np.fft.fft(signal2))"
      ]
    },
    {
      "cell_type": "code",
      "execution_count": 14,
      "metadata": {
        "colab": {
          "base_uri": "https://localhost:8080/"
        },
        "id": "uI7zz36HfMUy",
        "outputId": "f8da12e7-7582-4272-ff32-11bf078be4e1"
      },
      "outputs": [
        {
          "name": "stdout",
          "output_type": "stream",
          "text": [
            "Splot wyznaczony ręcznie:  [9, 2, 7, 6]\n",
            "Splot wyznaczony za pomocą DTF:  [9.+0.j 2.+0.j 7.+0.j 6.+0.j]\n"
          ]
        }
      ],
      "source": [
        "convolution = calc_circular_convolution(s1, s2)\n",
        "convolution_fft = calc_circular_convolution_fft(s1, s2)\n",
        "print(\"Splot wyznaczony ręcznie: \", convolution)\n",
        "print(\"Splot wyznaczony za pomocą DTF: \", convolution_fft)"
      ]
    },
    {
      "cell_type": "markdown",
      "metadata": {
        "id": "QkPB_r4vfN1k"
      },
      "source": [
        "Wyniki są takie same, więc twierdzenie o dyskretnej transformacji Fouriera jest prawdziwe"
      ]
    }
  ],
  "metadata": {
    "colab": {
      "name": "Untitled1.ipynb",
      "provenance": []
    },
    "kernelspec": {
      "display_name": "Python 3",
      "name": "python3"
    },
    "language_info": {
      "codemirror_mode": {
        "name": "ipython",
        "version": 3
      },
      "file_extension": ".py",
      "mimetype": "text/x-python",
      "name": "python",
      "nbconvert_exporter": "python",
      "pygments_lexer": "ipython3",
      "version": "3.8.10"
    }
  },
  "nbformat": 4,
  "nbformat_minor": 0
}
