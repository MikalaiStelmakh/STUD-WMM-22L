{
  "nbformat": 4,
  "nbformat_minor": 0,
  "metadata": {
    "colab": {
      "name": "Untitled1.ipynb",
      "provenance": []
    },
    "kernelspec": {
      "name": "python3",
      "display_name": "Python 3"
    },
    "language_info": {
      "name": "python"
    }
  },
  "cells": [
    {
      "cell_type": "code",
      "execution_count": 1,
      "metadata": {
        "id": "gAM7hYk7dySO"
      },
      "outputs": [],
      "source": [
        "import numpy as np\n",
        "import matplotlib.pyplot as plt"
      ]
    },
    {
      "cell_type": "markdown",
      "source": [
        "### Zadanie 1\n",
        "Dane są dwa sygnały o okresie podstawowym N=4: s1 = {2, 1, 3, 0} i s2 = {0, 1, 3, 0}\n"
      ],
      "metadata": {
        "id": "3kmNYc_weOPA"
      }
    },
    {
      "cell_type": "code",
      "source": [
        "period = 4\n",
        "s1 = [2, 1, 3, 0]\n",
        "s2 = [0, 1, 3, 0]"
      ],
      "metadata": {
        "id": "MTiVnvj-eRfM"
      },
      "execution_count": 2,
      "outputs": []
    },
    {
      "cell_type": "markdown",
      "source": [
        "#### a) Dla każdego z sygnału:\n",
        "- wyznaczyć i wykreślić widmo amplitudowe i fazowe"
      ],
      "metadata": {
        "id": "5dMIfqFfeVS-"
      }
    },
    {
      "cell_type": "code",
      "source": [
        "def calc_spectrum(signal):\n",
        "    return np.fft.fft(signal) / len(signal)\n",
        "\n",
        "def calc_amplitude_spectrum(signal):\n",
        "    return np.abs(calc_spectrum(signal))\n",
        "\n",
        "def calc_phase_spectrum(signal):\n",
        "    return np.angle(calc_spectrum(signal))"
      ],
      "metadata": {
        "id": "7PEpghyBeZL_"
      },
      "execution_count": 3,
      "outputs": []
    },
    {
      "cell_type": "code",
      "source": [
        "plt.stem(calc_amplitude_spectrum(s1))\n",
        "plt.title(\"Amplitude spectrum s1\")\n",
        "plt.show()\n",
        "\n",
        "plt.stem(calc_amplitude_spectrum(s2))\n",
        "plt.title(\"Amplitude spectrum s2\")\n",
        "plt.show()"
      ],
      "metadata": {
        "colab": {
          "base_uri": "https://localhost:8080/",
          "height": 634
        },
        "id": "yupprxFNeZ9m",
        "outputId": "79ab6909-bbdb-4919-b533-c2be0bda779c"
      },
      "execution_count": 5,
      "outputs": [
        {
          "output_type": "stream",
          "name": "stderr",
          "text": [
            "/usr/local/lib/python3.7/dist-packages/ipykernel_launcher.py:1: UserWarning: In Matplotlib 3.3 individual lines on a stem plot will be added as a LineCollection instead of individual lines. This significantly improves the performance of a stem plot. To remove this warning and switch to the new behaviour, set the \"use_line_collection\" keyword argument to True.\n",
            "  \"\"\"Entry point for launching an IPython kernel.\n"
          ]
        },
        {
          "output_type": "display_data",
          "data": {
            "text/plain": [
              "<Figure size 432x288 with 1 Axes>"
            ],
            "image/png": "[encoded data removed]"
          },
          "metadata": {
            "needs_background": "light"
          }
        },
        {
          "output_type": "stream",
          "name": "stderr",
          "text": [
            "/usr/local/lib/python3.7/dist-packages/ipykernel_launcher.py:5: UserWarning: In Matplotlib 3.3 individual lines on a stem plot will be added as a LineCollection instead of individual lines. This significantly improves the performance of a stem plot. To remove this warning and switch to the new behaviour, set the \"use_line_collection\" keyword argument to True.\n",
            "  \"\"\"\n"
          ]
        },
        {
          "output_type": "display_data",
          "data": {
            "text/plain": [
              "<Figure size 432x288 with 1 Axes>"
            ],
            "image/png": "[encoded data removed]"
          },
          "metadata": {
            "needs_background": "light"
          }
        }
      ]
    },
    {
      "cell_type": "code",
      "source": [
        "plt.stem(calc_phase_spectrum(s1))\n",
        "plt.title(\"Phase spectrum s1\")\n",
        "plt.show()\n",
        "\n",
        "plt.stem(calc_phase_spectrum(s2))\n",
        "plt.title(\"Phase spectrum s2\")\n",
        "plt.show()"
      ],
      "metadata": {
        "colab": {
          "base_uri": "https://localhost:8080/",
          "height": 634
        },
        "id": "l9O04-S-e94x",
        "outputId": "238a01ec-eec1-4598-eb1e-f1e642a68a2f"
      },
      "execution_count": 6,
      "outputs": [
        {
          "output_type": "stream",
          "name": "stderr",
          "text": [
            "/usr/local/lib/python3.7/dist-packages/ipykernel_launcher.py:1: UserWarning: In Matplotlib 3.3 individual lines on a stem plot will be added as a LineCollection instead of individual lines. This significantly improves the performance of a stem plot. To remove this warning and switch to the new behaviour, set the \"use_line_collection\" keyword argument to True.\n",
            "  \"\"\"Entry point for launching an IPython kernel.\n"
          ]
        },
        {
          "output_type": "display_data",
          "data": {
            "text/plain": [
              "<Figure size 432x288 with 1 Axes>"
            ],
            "image/png": "[encoded data removed]"
          },
          "metadata": {
            "needs_background": "light"
          }
        },
        {
          "output_type": "stream",
          "name": "stderr",
          "text": [
            "/usr/local/lib/python3.7/dist-packages/ipykernel_launcher.py:5: UserWarning: In Matplotlib 3.3 individual lines on a stem plot will be added as a LineCollection instead of individual lines. This significantly improves the performance of a stem plot. To remove this warning and switch to the new behaviour, set the \"use_line_collection\" keyword argument to True.\n",
            "  \"\"\"\n"
          ]
        },
        {
          "output_type": "display_data",
          "data": {
            "text/plain": [
              "<Figure size 432x288 with 1 Axes>"
            ],
            "image/png": "[encoded data removed]"
          },
          "metadata": {
            "needs_background": "light"
          }
        }
      ]
    },
    {
      "cell_type": "markdown",
      "source": [
        "- obliczyć moc sygnału"
      ],
      "metadata": {
        "id": "3VsS3WD7fCjK"
      }
    },
    {
      "cell_type": "code",
      "source": [
        "def calc_power(signal):\n",
        "    return sum([a**2 for a in signal]) / len(signal)"
      ],
      "metadata": {
        "id": "jPvqNLOFfDFl"
      },
      "execution_count": 7,
      "outputs": []
    },
    {
      "cell_type": "code",
      "source": [
        "print(\"Power_s1 = \", calc_power(s1))\n",
        "print(\"Power_s2 = \", calc_power(s2))"
      ],
      "metadata": {
        "colab": {
          "base_uri": "https://localhost:8080/"
        },
        "id": "CI3k4UQafEKD",
        "outputId": "9ee15283-4b5d-4451-9c22-660b9e5f2d15"
      },
      "execution_count": 8,
      "outputs": [
        {
          "output_type": "stream",
          "name": "stdout",
          "text": [
            "Power_s1 =  3.5\n",
            "Power_s2 =  2.5\n"
          ]
        }
      ]
    },
    {
      "cell_type": "markdown",
      "source": [
        "- sprawdzić słuszność twierdzenia Parsevala"
      ],
      "metadata": {
        "id": "-2g6GEWUfFX6"
      }
    },
    {
      "cell_type": "code",
      "source": [
        "def calc_parseval(signal):\n",
        "    return sum([np.abs(a)**2 for a in calc_spectrum(signal)])\n",
        "\n",
        "def check_parseval_theorem(signal):\n",
        "    return calc_power(signal) == calc_parseval(signal)"
      ],
      "metadata": {
        "id": "9E-oR8y7fG4x"
      },
      "execution_count": 9,
      "outputs": []
    },
    {
      "cell_type": "code",
      "source": [
        "print(\"Parseval_power_s1 = \", calc_parseval(s1))\n",
        "print(\"Parseval_power_s2 = \", calc_parseval(s2))\n",
        "print(f\"Twierdzenie Parsevala dla s1 {'jest' if check_parseval_theorem(s1) else 'nie jest'} prawdziwe\")\n",
        "print(f\"Twierdzenie Parsevala dla s2 {'jest' if check_parseval_theorem(s2) else 'nie jest'} prawdziwe\")"
      ],
      "metadata": {
        "colab": {
          "base_uri": "https://localhost:8080/"
        },
        "id": "Vhexbjw1fIZM",
        "outputId": "8ae875e9-67e7-4fbd-9596-8e14c099bf8f"
      },
      "execution_count": 10,
      "outputs": [
        {
          "output_type": "stream",
          "name": "stdout",
          "text": [
            "Parseval_power_s1 =  3.5\n",
            "Parseval_power_s2 =  2.5\n",
            "Twierdzenie Parsevala dla s1 jest prawdziwe\n",
            "Twierdzenie Parsevala dla s2 jest prawdziwe\n"
          ]
        }
      ]
    },
    {
      "cell_type": "markdown",
      "source": [
        "#### b) Sprawdzić słuszność twierdzenia o dyskretnej transformacji Fouriera splotu kołowego sygnałów s1 i s2:\n",
        "- wyznaczyć ręcznie splot kołowy sygnałów s1 i s2\n",
        "- wyznaczyć splot za pomocą dyskretnej transformacji Fouriera"
      ],
      "metadata": {
        "id": "3rHUNVnEfKca"
      }
    },
    {
      "cell_type": "code",
      "source": [
        "def calc_circular_convolution(signal1, signal2):\n",
        "    convolution = []\n",
        "    for i1, _ in enumerate(signal1):\n",
        "        convolution.append(sum([signal1[i2]*signal2[i1-i2] for i2, _ in enumerate(signal1)]))\n",
        "    return convolution\n",
        "\n",
        "def calc_circular_convolution_fft(signal1, signal2):\n",
        "    return np.fft.ifft(np.fft.fft(signal1) * np.fft.fft(signal2))"
      ],
      "metadata": {
        "id": "hYgz1ChZfLEo"
      },
      "execution_count": 11,
      "outputs": []
    },
    {
      "cell_type": "code",
      "source": [
        "convolution = calc_circular_convolution(s1, s2)\n",
        "convolution_fft = calc_circular_convolution_fft(s1, s2)\n",
        "print(\"Splot wyznaczony ręcznie: \", convolution)\n",
        "print(\"Splot wyznaczony za pomocą DTF: \", convolution_fft)"
      ],
      "metadata": {
        "colab": {
          "base_uri": "https://localhost:8080/"
        },
        "id": "uI7zz36HfMUy",
        "outputId": "f8da12e7-7582-4272-ff32-11bf078be4e1"
      },
      "execution_count": 12,
      "outputs": [
        {
          "output_type": "stream",
          "name": "stdout",
          "text": [
            "Splot wyznaczony ręcznie:  [9, 2, 7, 6]\n",
            "Splot wyznaczony za pomocą DTF:  [9.+0.j 2.+0.j 7.+0.j 6.+0.j]\n"
          ]
        }
      ]
    },
    {
      "cell_type": "markdown",
      "source": [
        "Wyniki są takie same, więc twierdzenie o dyskretnej transformacji Fouriera jest prawdziwe"
      ],
      "metadata": {
        "id": "QkPB_r4vfN1k"
      }
    }
  ]
}