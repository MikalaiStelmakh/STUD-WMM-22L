{
  "nbformat": 4,
  "nbformat_minor": 0,
  "metadata": {
    "colab": {
      "name": "Untitled1.ipynb",
      "provenance": []
    },
    "kernelspec": {
      "name": "python3",
      "display_name": "Python 3"
    },
    "language_info": {
      "name": "python"
    }
  },
  "cells": [
    {
      "cell_type": "code",
      "execution_count": 1,
      "metadata": {
        "id": "gAM7hYk7dySO"
      },
      "outputs": [],
      "source": [
        "import numpy as np\n",
        "import matplotlib.pyplot as plt"
      ]
    },
    {
      "cell_type": "markdown",
      "source": [
        "### Zadanie 1\n",
        "Dane są dwa sygnały o okresie podstawowym N=4: s1 = {2, 1, 3, 0} i s2 = {0, 1, 3, 0}\n"
      ],
      "metadata": {
        "id": "3kmNYc_weOPA"
      }
    },
    {
      "cell_type": "code",
      "source": [
        "period = 4\n",
        "s1 = [2, 1, 3, 0]\n",
        "s2 = [0, 1, 3, 0]"
      ],
      "metadata": {
        "id": "MTiVnvj-eRfM"
      },
      "execution_count": 2,
      "outputs": []
    },
    {
      "cell_type": "markdown",
      "source": [
        "#### a) Dla każdego z sygnału:\n",
        "- wyznaczyć i wykreślić widmo amplitudowe i fazowe"
      ],
      "metadata": {
        "id": "5dMIfqFfeVS-"
      }
    },
    {
      "cell_type": "code",
      "source": [
        "def calc_spectrum(signal):\n",
        "    return np.fft.fft(signal) / len(signal)\n",
        "\n",
        "def calc_amplitude_spectrum(signal):\n",
        "    return np.abs(calc_spectrum(signal))\n",
        "\n",
        "def calc_phase_spectrum(signal):\n",
        "    return np.angle(calc_spectrum(signal))"
      ],
      "metadata": {
        "id": "7PEpghyBeZL_"
      },
      "execution_count": 3,
      "outputs": []
    },
    {
      "cell_type": "code",
      "source": [
        "plt.stem(calc_amplitude_spectrum(s1))\n",
        "plt.title(\"Amplitude spectrum s1\")\n",
        "plt.show()\n",
        "\n",
        "plt.stem(calc_amplitude_spectrum(s2))\n",
        "plt.title(\"Amplitude spectrum s2\")\n",
        "plt.show()"
      ],
      "metadata": {
        "colab": {
          "base_uri": "https://localhost:8080/",
          "height": 634
        },
        "id": "yupprxFNeZ9m",
        "outputId": "cfdc9476-ca60-4540-8d6c-ef8481326d0f"
      },
      "execution_count": 4,
      "outputs": [
        {
          "output_type": "stream",
          "name": "stderr",
          "text": [
            "/usr/local/lib/python3.7/dist-packages/ipykernel_launcher.py:1: UserWarning: In Matplotlib 3.3 individual lines on a stem plot will be added as a LineCollection instead of individual lines. This significantly improves the performance of a stem plot. To remove this warning and switch to the new behaviour, set the \"use_line_collection\" keyword argument to True.\n",
            "  \"\"\"Entry point for launching an IPython kernel.\n"
          ]
        },
        {
          "output_type": "display_data",
          "data": {
            "text/plain": [
              "<Figure size 432x288 with 1 Axes>"
            ],
            "image/png": "[encoded data removed]"
          },
          "metadata": {
            "needs_background": "light"
          }
        },
        {
          "output_type": "stream",
          "name": "stderr",
          "text": [
            "/usr/local/lib/python3.7/dist-packages/ipykernel_launcher.py:5: UserWarning: In Matplotlib 3.3 individual lines on a stem plot will be added as a LineCollection instead of individual lines. This significantly improves the performance of a stem plot. To remove this warning and switch to the new behaviour, set the \"use_line_collection\" keyword argument to True.\n",
            "  \"\"\"\n"
          ]
        },
        {
          "output_type": "display_data",
          "data": {
            "text/plain": [
              "<Figure size 432x288 with 1 Axes>"
            ],
            "image/png": "[encoded data removed]"
          },
          "metadata": {
            "needs_background": "light"
          }
        }
      ]
    }
  ]
}